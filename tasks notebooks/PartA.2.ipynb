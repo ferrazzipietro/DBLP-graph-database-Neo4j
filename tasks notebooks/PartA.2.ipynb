{
 "cells": [
  {
   "cell_type": "code",
   "execution_count": 38,
   "metadata": {},
   "outputs": [],
   "source": [
    "from neo4j import GraphDatabase\n",
    "import pandas as pd"
   ]
  },
  {
   "cell_type": "markdown",
   "metadata": {},
   "source": [
    "### **Database connection**\n",
    "\n",
    "Here, the connection settings to link this script with Neo4j are setup"
   ]
  },
  {
   "cell_type": "code",
   "execution_count": 39,
   "metadata": {},
   "outputs": [],
   "source": [
    "# Connection settings\n",
    "uri = \"neo4j://localhost:7687\"\n",
    "pass=\"pass\"\n",
    "driver = GraphDatabase.driver(uri, auth=(\"neo4j\", pass))"
   ]
  },
  {
   "cell_type": "markdown",
   "metadata": {},
   "source": [
    "### **Data import**\n",
    "\n",
    "The data to be uploaded is imported in CSV format"
   ]
  },
  {
   "cell_type": "code",
   "execution_count": 40,
   "metadata": {},
   "outputs": [],
   "source": [
    "# Data import\n",
    "# Nodes\n",
    "authors = pd.read_csv('./data/auth.csv')\n",
    "articles = pd.read_csv('./data/articles.csv')\n",
    "proceedings = pd.read_csv('./data/proceedings.csv')\n",
    "conferences = pd.read_csv('./data/conferences.csv')\n",
    "volumes = pd.read_csv('./data/volumes.csv')\n",
    "journals = pd.read_csv('./data/journals.csv')\n",
    "journal_editors = pd.read_csv('./data/journal_editors.csv')\n",
    "conference_chair = pd.read_csv('./data/conference_chair.csv')\n",
    "reviewer_groups = pd.read_csv('./data/assigned_rewiers.csv')\n",
    "keywords = pd.read_csv('./data/keywords.csv')\n",
    "\n",
    "# Relations\n",
    "authors_articles = pd.read_csv('./data/art_auth.csv')\n",
    "articles_proceedings= pd.read_csv('./data/art_in_proc.csv')\n",
    "articles_volumes = pd.read_csv('./data/art_in_vol.csv')\n",
    "articles_keywords = pd.read_csv('./data/art_keyword.csv')\n",
    "article_article = pd.read_csv('./data/art_quote_art.csv')\n",
    "groupreviewers_article = pd.read_csv('./data/assignedRewiers_rev_art.csv')\n",
    "authors_reviewergroup = pd.read_csv('./data/auth_is_reviewer.csv')\n",
    "conferencechairs_conferences = pd.read_csv('./data/confChair_conf.csv')\n",
    "journaleditors_journals = pd.read_csv('./data/jourEdit_journ.csv')\n",
    "journaleditors_reviewergroups = pd.read_csv('./data/journEd_reviewers.csv')\n",
    "proceedings_conferences = pd.read_csv('./data/proc_in_conf.csv')\n",
    "volumes_journals = pd.read_csv('./data/vol_in_journ.csv')"
   ]
  },
  {
   "cell_type": "markdown",
   "metadata": {},
   "source": [
    "### **Data Loading**\n",
    "\n",
    "In this stage we wil load the data in the graph database"
   ]
  },
  {
   "cell_type": "markdown",
   "metadata": {},
   "source": [
    "#### **Nodes**"
   ]
  },
  {
   "cell_type": "markdown",
   "metadata": {},
   "source": [
    "*Authors:*"
   ]
  },
  {
   "cell_type": "code",
   "execution_count": 41,
   "metadata": {},
   "outputs": [],
   "source": [
    "# Implementation\n",
    "def create_authors(tx, authors):\n",
    "    for i in range(len(authors)):\n",
    "        tx.run(\"MERGE (:Author {author_id: $author_id, name: $name})\", \n",
    "        author_id=int(authors.loc[i, \":ID\"]), \n",
    "        name=authors.loc[i, \"author:string\"])\n",
    "\n",
    "# Invocation\n",
    "with driver.session() as session:\n",
    "    session.write_transaction(create_authors, authors)\n",
    "\n",
    "# Index\n",
    "def index_author(tx):\n",
    "    answer = tx.run(\"\"\"\n",
    "    CREATE INDEX author_index\n",
    "    FOR (n:Author)\n",
    "    ON (n.author_id)\n",
    "    \"\"\")\n",
    "with driver.session() as session:\n",
    "    articles = session.write_transaction(index_author)"
   ]
  },
  {
   "cell_type": "markdown",
   "metadata": {},
   "source": [
    "*Articles:*"
   ]
  },
  {
   "cell_type": "code",
   "execution_count": 42,
   "metadata": {},
   "outputs": [],
   "source": [
    "# Implementation\n",
    "def create_articles(tx, articles):\n",
    "    for i in range(len(articles)):\n",
    "        tx.run(\"MERGE (:Article {article_id: $article_id, title: $title, doi:$doi, pages:$pages, abstract:$abstract})\", \n",
    "        article_id=int(articles.loc[i, \"article:ID\"]), \n",
    "        title=str(articles.loc[i, \"title:string[]\"]),\n",
    "        doi=str(articles.loc[i, \"ee:string[]\"]),\n",
    "        pages=str(articles.loc[i, \"pages:string\"]),\n",
    "        abstract=str(articles.loc[i, \"abstract:string[]\"])\n",
    "        )\n",
    "\n",
    "# Invocation\n",
    "with driver.session() as session:\n",
    "    session.write_transaction(create_articles, articles)\n",
    "\n",
    "# Index\n",
    "def index_article(tx):\n",
    "    answer = tx.run(\"\"\"\n",
    "    CREATE INDEX article_index\n",
    "    FOR (n:Article)\n",
    "    ON (n.article_id)\n",
    "    \"\"\")\n",
    "with driver.session() as session:\n",
    "    articles = session.write_transaction(index_article)"
   ]
  },
  {
   "cell_type": "markdown",
   "metadata": {},
   "source": [
    "*Journals:*"
   ]
  },
  {
   "cell_type": "code",
   "execution_count": 43,
   "metadata": {},
   "outputs": [],
   "source": [
    "# Implementation\n",
    "def create_journals(tx, journals):\n",
    "    for i in range(len(journals)):\n",
    "        tx.run(\"MERGE (:Journal {journal_id: $journal_id, name: $name})\", \n",
    "        journal_id=int(journals.loc[i, \":ID\"]), \n",
    "        name=journals.loc[i, \"journal:string\"])\n",
    "\n",
    "# Invocation\n",
    "with driver.session() as session:\n",
    "    session.write_transaction(create_journals, journals)"
   ]
  },
  {
   "cell_type": "markdown",
   "metadata": {},
   "source": [
    "*Conference:*"
   ]
  },
  {
   "cell_type": "code",
   "execution_count": 44,
   "metadata": {},
   "outputs": [],
   "source": [
    "# Implementation\n",
    "def create_conference(tx, conferences):\n",
    "    for i in range(len(conferences)):\n",
    "        tx.run(\"MERGE (:Conference {conference_id: $conference_id, name: $name})\", \n",
    "        conference_id=int(conferences.loc[i, \"conference:ID\"]), \n",
    "        name=conferences.loc[i, \"name:string[]\"])\n",
    "\n",
    "# Invocation\n",
    "with driver.session() as session:\n",
    "    session.write_transaction(create_conference, conferences)"
   ]
  },
  {
   "cell_type": "markdown",
   "metadata": {},
   "source": [
    "*Volume:*"
   ]
  },
  {
   "cell_type": "code",
   "execution_count": 45,
   "metadata": {},
   "outputs": [],
   "source": [
    "# Implementation\n",
    "def create_volumes(tx, volumes):\n",
    "    for i in range(len(volumes)):\n",
    "        tx.run(\"MERGE (:Volume {volume_id: $volume_id, date: $date})\", \n",
    "        volume_id=(volumes.loc[i, \"volume:ID\"]), \n",
    "        date=volumes.loc[i, \"date:date\"])\n",
    "\n",
    "# Invocation\n",
    "with driver.session() as session:\n",
    "    session.write_transaction(create_volumes, volumes)"
   ]
  },
  {
   "cell_type": "markdown",
   "metadata": {},
   "source": [
    "*Journal editor:*"
   ]
  },
  {
   "cell_type": "code",
   "execution_count": 46,
   "metadata": {},
   "outputs": [],
   "source": [
    "# Implementation\n",
    "def create_journalEditors(tx, journal_editors):\n",
    "    for i in range(len(journal_editors)):\n",
    "        tx.run(\"MERGE (:JournalEditors {journalEditor_id: $journalEditors_id, name: $name})\", \n",
    "        journalEditors_id=int(journal_editors.loc[i, \"journal_editors:ID\"]), \n",
    "        name=journal_editors.loc[i, \"name:string[]\"])\n",
    "\n",
    "# Invocation\n",
    "with driver.session() as session:\n",
    "    session.write_transaction(create_journalEditors, journal_editors)"
   ]
  },
  {
   "cell_type": "markdown",
   "metadata": {},
   "source": [
    "*Conference chair:*"
   ]
  },
  {
   "cell_type": "code",
   "execution_count": 47,
   "metadata": {},
   "outputs": [],
   "source": [
    "# Implementation\n",
    "def create_conferenceChairs(tx, conference_chair):\n",
    "    for i in range(len(conference_chair)):\n",
    "        tx.run(\"MERGE (:ConferenceChair {conferenceChair_id: $conferenceChair_id, organizers: $organizers})\", \n",
    "        conferenceChair_id=int(conference_chair.loc[i, \"conference_chair:ID\"]), \n",
    "        organizers=conference_chair.loc[i, \"name:string[]\"])\n",
    "\n",
    "# Invocation\n",
    "with driver.session() as session:\n",
    "    session.write_transaction(create_conferenceChairs, conference_chair)"
   ]
  },
  {
   "cell_type": "markdown",
   "metadata": {},
   "source": [
    "*Reviewer Groups:*"
   ]
  },
  {
   "cell_type": "code",
   "execution_count": 48,
   "metadata": {},
   "outputs": [],
   "source": [
    "# Implementation\n",
    "def create_assignedReviewers(tx, reviewer_groups):\n",
    "    for i in range(len(reviewer_groups)):\n",
    "        tx.run(\"MERGE (:ReviewGroup {reviewGroup_id: $reviewGroup_id})\", \n",
    "        reviewGroup_id=int(reviewer_groups.loc[i, \"rewier:ID\"]))\n",
    "\n",
    "# Invocation\n",
    "with driver.session() as session:\n",
    "    session.write_transaction(create_assignedReviewers, reviewer_groups)\n",
    "\n",
    "# Index\n",
    "def index_reviewGroup(tx):\n",
    "    answer = tx.run(\"\"\"\n",
    "    CREATE INDEX reviewGroup_index\n",
    "    FOR (n:ReviewGroup)\n",
    "    ON (n.reviewGroup_id)\n",
    "    \"\"\")\n",
    "with driver.session() as session:\n",
    "    articles = session.write_transaction(index_reviewGroup)"
   ]
  },
  {
   "cell_type": "markdown",
   "metadata": {},
   "source": [
    "*Keywords:*"
   ]
  },
  {
   "cell_type": "code",
   "execution_count": 49,
   "metadata": {},
   "outputs": [],
   "source": [
    "# Implementation\n",
    "def create_keywords(tx, keywords):\n",
    "    for i in range(len(keywords)):\n",
    "        tx.run(\"MERGE (:Keyword {keyword_id: $keyword_id, word: $word})\", \n",
    "                keyword_id=int(keywords.loc[i, \"keyword:ID\"]), \n",
    "                word=keywords.loc[i, \"text:string\"])\n",
    "\n",
    "# Invocation\n",
    "with driver.session() as session:\n",
    "    session.write_transaction(create_keywords, keywords)"
   ]
  },
  {
   "cell_type": "markdown",
   "metadata": {},
   "source": [
    "*Proceedings:*"
   ]
  },
  {
   "cell_type": "code",
   "execution_count": 50,
   "metadata": {},
   "outputs": [],
   "source": [
    "# Implementation\n",
    "def create_proceedings(tx, proceedings):\n",
    "    for i in range(len(proceedings)):\n",
    "        tx.run(\"MERGE (:Proceeding {proceeding_id: $proceeding_id, title: $title, url: $url, isbn: $isbn, publisher: $publisher, series: $series, year:$year })\", \n",
    "        proceeding_id=int(proceedings.loc[i, \"proceedings:ID\"]), \n",
    "        title=proceedings.loc[i, \"title:string\"],\n",
    "        url=proceedings.loc[i, \"url:string\"],\n",
    "        publisher=str(proceedings.loc[i, \"editor:string[]\"]),\n",
    "        series=str(proceedings.loc[i, \"series:string[]\"]),\n",
    "        isbn=str(proceedings.loc[i, \"isbn:string[]\"]),\n",
    "        year=int(proceedings.loc[i, \"year:int\"])\n",
    "        )\n",
    "\n",
    "# Invocation\n",
    "with driver.session() as session:\n",
    "    session.write_transaction(create_proceedings, proceedings)\n",
    "\n",
    "driver.close()"
   ]
  },
  {
   "cell_type": "markdown",
   "metadata": {},
   "source": [
    "#### **Edges**"
   ]
  },
  {
   "cell_type": "markdown",
   "metadata": {},
   "source": [
    "*Author-Article*"
   ]
  },
  {
   "cell_type": "code",
   "execution_count": 51,
   "metadata": {},
   "outputs": [],
   "source": [
    "# Implementation\n",
    "def create_written_by(tx, authors_articles):\n",
    "    for i in range(len(authors_articles)):\n",
    "        tx.run(\"MATCH (n: Author {author_id: $end}), (m: Article {article_id: $start}) MERGE (n) <- [:written_by {mainAuthor: $mainAuthor}] - (m) \", \n",
    "        start=int(authors_articles.loc[i, \":START_ID\"]), \n",
    "        end=int(authors_articles.loc[i, \":END_ID\"]),\n",
    "        mainAuthor=bool(authors_articles.loc[i, \"MAIN_AUTH:bool\"]))\n",
    "\n",
    "# Invocation\n",
    "with driver.session() as session:\n",
    "    session.write_transaction(create_written_by, authors_articles)"
   ]
  },
  {
   "cell_type": "markdown",
   "metadata": {},
   "source": [
    "*Articles-Proceeding*"
   ]
  },
  {
   "cell_type": "code",
   "execution_count": 52,
   "metadata": {},
   "outputs": [],
   "source": [
    "# Implementation\n",
    "def create_published_in(tx, articles_proceedings):\n",
    "    for i in range(len(articles_proceedings)):\n",
    "        tx.run(\"MATCH (n: Article {article_id: $start}), (m: Proceeding {proceeding_id: $end}) MERGE (n) - [:published_in] -> (m) \", \n",
    "        start=int(articles_proceedings.loc[i, \":START_ID\"]), \n",
    "        end=int(articles_proceedings.loc[i, \":END_ID\"]))\n",
    "\n",
    "# Invocation\n",
    "with driver.session() as session:\n",
    "    session.write_transaction(create_published_in, articles_proceedings)"
   ]
  },
  {
   "cell_type": "markdown",
   "metadata": {},
   "source": [
    "*Proceedings-Conference*"
   ]
  },
  {
   "cell_type": "code",
   "execution_count": 53,
   "metadata": {},
   "outputs": [],
   "source": [
    "# Implementation\n",
    "def create_belongs_to(tx, proceedings_conferences):\n",
    "    for i in range(len(proceedings_conferences)):\n",
    "        tx.run(\"MATCH (n: Proceeding {proceeding_id: $start}), (m: Conference {conference_id: $end}) MERGE (n) - [:belongs_to] -> (m) \", \n",
    "        start=int(proceedings_conferences.loc[i, \":START_ID\"]), \n",
    "        end=int(proceedings_conferences.loc[i, \":END_ID\"]))\n",
    "\n",
    "# Invocation\n",
    "with driver.session() as session:\n",
    "    session.write_transaction(create_belongs_to, proceedings_conferences)"
   ]
  },
  {
   "cell_type": "markdown",
   "metadata": {},
   "source": [
    "*Article-Article*"
   ]
  },
  {
   "cell_type": "code",
   "execution_count": 54,
   "metadata": {},
   "outputs": [],
   "source": [
    "# Implementation\n",
    "def create_cited_by(tx, article_article):\n",
    "    for i in range(len(article_article)):\n",
    "        tx.run(\"MATCH (n: Article {article_id: $start}), (m: Article {article_id: $end}) MERGE (n) - [:cited_by] -> (m) \", \n",
    "        start=int(article_article.loc[i, \":START_ID\"]), \n",
    "        end=int(article_article.loc[i, \":END_ID\"]))\n",
    "\n",
    "# Invocation\n",
    "with driver.session() as session:\n",
    "    session.write_transaction(create_cited_by, article_article)"
   ]
  },
  {
   "cell_type": "markdown",
   "metadata": {},
   "source": [
    "*Article-Volume*"
   ]
  },
  {
   "cell_type": "code",
   "execution_count": 55,
   "metadata": {},
   "outputs": [],
   "source": [
    "# Implementation\n",
    "def create_published_in(tx, articles_volumes):\n",
    "    for i in range(len(articles_volumes)):\n",
    "        tx.run(\"MATCH (n: Article {article_id: $start}), (m: Volume {volume_id: $end}) MERGE (n) - [:published_in] -> (m) \", \n",
    "        start=int(articles_volumes.loc[i, \":START_ID\"]), \n",
    "        end=str(articles_volumes.loc[i, \":END_ID\"]))\n",
    "\n",
    "# Invocation\n",
    "with driver.session() as session:\n",
    "    session.write_transaction(create_published_in, articles_volumes)"
   ]
  },
  {
   "cell_type": "markdown",
   "metadata": {},
   "source": [
    "*Volume-Journal*"
   ]
  },
  {
   "cell_type": "code",
   "execution_count": 56,
   "metadata": {},
   "outputs": [],
   "source": [
    "# Implementation\n",
    "def create_belongs_to(tx, volumes_journals):\n",
    "    for i in range(len(volumes_journals)):\n",
    "        tx.run(\"MATCH (n: Volume {volume_id: $start}), (m: Journal {journal_id: $end}) MERGE (n) - [:belongs_to] -> (m) \", \n",
    "        start=str(volumes_journals.loc[i, \":START_ID\"]), \n",
    "        end=int(volumes_journals.loc[i, \":END_ID\"]))\n",
    "\n",
    "# Invocation\n",
    "with driver.session() as session:\n",
    "    session.write_transaction(create_belongs_to, volumes_journals)"
   ]
  },
  {
   "cell_type": "markdown",
   "metadata": {},
   "source": [
    "*Journal-Journal Editor*"
   ]
  },
  {
   "cell_type": "code",
   "execution_count": 57,
   "metadata": {},
   "outputs": [],
   "source": [
    "# Implementation\n",
    "def create_edited_by(tx, journaleditors_journals):\n",
    "    for i in range(len(journaleditors_journals)):\n",
    "        tx.run(\"MATCH (n: JournalEditors {journalEditor_id: $start}), (m: Journal {journal_id: $end}) MERGE (n) - [:edits] -> (m) \", \n",
    "        start=int(journaleditors_journals.loc[i, \":START_ID\"]), \n",
    "        end=int(journaleditors_journals.loc[i, \":END_ID\"]))\n",
    "\n",
    "# Invocation\n",
    "with driver.session() as session:\n",
    "    session.write_transaction(create_edited_by, journaleditors_journals)"
   ]
  },
  {
   "cell_type": "markdown",
   "metadata": {},
   "source": [
    "*Journal Editor - Review groups*"
   ]
  },
  {
   "cell_type": "code",
   "execution_count": 58,
   "metadata": {},
   "outputs": [],
   "source": [
    "# Implementation\n",
    "def create_assignes(tx, journaleditors_reviewergroups):\n",
    "    for i in range(len(journaleditors_reviewergroups)):\n",
    "        tx.run(\"MATCH (n: JournalEditors {journalEditor_id: $start}), (m: ReviewGroup {reviewGroup_id: $end}) MERGE (n) - [:assignes] -> (m) \", \n",
    "        start=int(journaleditors_reviewergroups.loc[i, \":START_ID\"]), \n",
    "        end=int(journaleditors_reviewergroups.loc[i, \":END_ID\"]))\n",
    "\n",
    "# Invocation\n",
    "with driver.session() as session:\n",
    "    session.write_transaction(create_assignes, journaleditors_reviewergroups)"
   ]
  },
  {
   "cell_type": "markdown",
   "metadata": {},
   "source": [
    "*Author-Reviewer Group*"
   ]
  },
  {
   "cell_type": "code",
   "execution_count": 59,
   "metadata": {},
   "outputs": [],
   "source": [
    "# Implementation\n",
    "def create_reviewer_in(tx, authors_reviewergroup):\n",
    "    for i in range(len(authors_reviewergroup)):\n",
    "        tx.run(\"MATCH (n: Author {author_id: $start}), (m: ReviewGroup {reviewGroup_id: $end}) MERGE (n) - [:reviewer_in] -> (m) \", \n",
    "        start=int(authors_reviewergroup.loc[i, \":START_ID\"]), \n",
    "        end=int(authors_reviewergroup.loc[i, \":END_ID\"]))\n",
    "\n",
    "# Invocation\n",
    "with driver.session() as session:\n",
    "    session.write_transaction(create_reviewer_in, authors_reviewergroup)"
   ]
  },
  {
   "cell_type": "markdown",
   "metadata": {},
   "source": [
    "*Reviewer Group-Article*"
   ]
  },
  {
   "cell_type": "code",
   "execution_count": 60,
   "metadata": {},
   "outputs": [],
   "source": [
    "def create_reviewed_by(tx, groupreviewers_article):\n",
    "    for i in range(len(groupreviewers_article)):\n",
    "        tx.run(\"MATCH (n: ReviewGroup {reviewGroup_id: $start}), (m: Article {article_id: $end}) MERGE (n) - [:reviews] -> (m) \", \n",
    "        start=int(groupreviewers_article.loc[i, \":START_ID\"]), \n",
    "        end=int(groupreviewers_article.loc[i, \":END_ID\"]))\n",
    "\n",
    "# Invocation\n",
    "with driver.session() as session:\n",
    "    session.write_transaction(create_reviewed_by, groupreviewers_article)"
   ]
  },
  {
   "cell_type": "markdown",
   "metadata": {},
   "source": [
    "*Conference Chair-Conference*"
   ]
  },
  {
   "cell_type": "code",
   "execution_count": 61,
   "metadata": {},
   "outputs": [],
   "source": [
    "def create_organized_by(tx, conferencechairs_conferences):\n",
    "    for i in range(len(conferencechairs_conferences)):\n",
    "        tx.run(\"MATCH (n: ConferenceChair {conferenceChair_id: $start}), (m: Conference {conference_id: $end}) MERGE (n) - [:organizes] -> (m) \", \n",
    "        start=int(conferencechairs_conferences.loc[i, \":START_ID\"]), \n",
    "        end=int(conferencechairs_conferences.loc[i, \":END_ID\"]))\n",
    "\n",
    "# Invocation\n",
    "with driver.session() as session:\n",
    "    session.write_transaction(create_organized_by, conferencechairs_conferences)"
   ]
  },
  {
   "cell_type": "markdown",
   "metadata": {},
   "source": [
    "*Article-Keywords*"
   ]
  },
  {
   "cell_type": "code",
   "execution_count": 62,
   "metadata": {},
   "outputs": [],
   "source": [
    "def create_talks_about(tx, articles_keywords):\n",
    "    for i in range(len(articles_keywords)):\n",
    "        tx.run(\"MATCH (n: Article {article_id: $start}), (m: Keyword {keyword_id: $end}) CREATE (n) - [:talks_about] -> (m)\", \n",
    "            start=int(articles_keywords.loc[i, \":START_ID\"]), \n",
    "            end=int(articles_keywords.loc[i, \":END_ID\"]))\n",
    "\n",
    "# Invocation\n",
    "with driver.session() as session:\n",
    "    session.write_transaction(create_talks_about, articles_keywords)"
   ]
  }
 ],
 "metadata": {
  "interpreter": {
   "hash": "6160c0131bdfc172777593547a58889439b56d8ed273ce91923063ba441a71ef"
  },
  "kernelspec": {
   "display_name": "Python 3.9.7 ('smd_lab1')",
   "language": "python",
   "name": "python3"
  },
  "language_info": {
   "codemirror_mode": {
    "name": "ipython",
    "version": 3
   },
   "file_extension": ".py",
   "mimetype": "text/x-python",
   "name": "python",
   "nbconvert_exporter": "python",
   "pygments_lexer": "ipython3",
   "version": "3.9.7"
  },
  "orig_nbformat": 4
 },
 "nbformat": 4,
 "nbformat_minor": 2
}
