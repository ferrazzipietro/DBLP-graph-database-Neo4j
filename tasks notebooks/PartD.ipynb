{
 "cells": [
  {
   "cell_type": "code",
   "execution_count": 32,
   "metadata": {},
   "outputs": [],
   "source": [
    "from neo4j import GraphDatabase\n",
    "import pandas as pd"
   ]
  },
  {
   "cell_type": "markdown",
   "metadata": {},
   "source": [
    "### **Database connection**\n",
    "\n",
    "Here, the connection settings to link this script with Neo4j are setup"
   ]
  },
  {
   "cell_type": "code",
   "execution_count": 33,
   "metadata": {},
   "outputs": [],
   "source": [
    "# Connection settings\n",
    "uri = \"neo4j://localhost:7687\"\n",
    "pass = \"pass\"\n",
    "driver = GraphDatabase.driver(uri, auth=(\"neo4j\", ))"
   ]
  },
  {
   "cell_type": "markdown",
   "metadata": {},
   "source": [
    "### **Reccomender**"
   ]
  },
  {
   "cell_type": "markdown",
   "metadata": {},
   "source": [
    "*Query 1*"
   ]
  },
  {
   "cell_type": "markdown",
   "metadata": {},
   "source": [
    "Here we retrieve the articles with keywords associated to the DB community"
   ]
  },
  {
   "cell_type": "code",
   "execution_count": 34,
   "metadata": {},
   "outputs": [],
   "source": [
    "def find_articles_by_keywords(tx):\n",
    "    answer = tx.run(\"\"\"\\\n",
    "\n",
    "        MATCH (a:Article)-[:talks_about]->(k:Keyword) \n",
    "        WHERE k.word IN [\"data management\", \"indexing\", \"data modeling\", \"big data\", \"data processing\", \"data storage\", \"data querying\"] \n",
    "        RETURN DISTINCT a\n",
    "        \n",
    "        \"\"\")\n",
    "    articles = []\n",
    "    for article in answer:\n",
    "        articles.append(article)\n",
    "    return articles\n",
    "\n",
    "\n",
    "def get_database_community_articles():\n",
    "    with driver.session() as session:\n",
    "        articles = session.read_transaction(find_articles_by_keywords)\n",
    "        articles_list = []\n",
    "\n",
    "    for i in range(len(articles)):\n",
    "        article_title = articles[i].get(\"a\").get(\"title\")\n",
    "        articles_list.append(article_title)\n",
    "\n",
    "    return pd.DataFrame(data=articles_list, columns=[\"article\"])"
   ]
  },
  {
   "cell_type": "code",
   "execution_count": 35,
   "metadata": {},
   "outputs": [
    {
     "data": {
      "text/html": [
       "<div>\n",
       "<style scoped>\n",
       "    .dataframe tbody tr th:only-of-type {\n",
       "        vertical-align: middle;\n",
       "    }\n",
       "\n",
       "    .dataframe tbody tr th {\n",
       "        vertical-align: top;\n",
       "    }\n",
       "\n",
       "    .dataframe thead th {\n",
       "        text-align: right;\n",
       "    }\n",
       "</style>\n",
       "<table border=\"1\" class=\"dataframe\">\n",
       "  <thead>\n",
       "    <tr style=\"text-align: right;\">\n",
       "      <th></th>\n",
       "      <th>article</th>\n",
       "    </tr>\n",
       "  </thead>\n",
       "  <tbody>\n",
       "    <tr>\n",
       "      <th>0</th>\n",
       "      <td>Predictive Non-equilibrium Social Science</td>\n",
       "    </tr>\n",
       "    <tr>\n",
       "      <th>1</th>\n",
       "      <td>Machine Friendly Machine Learning: Interpretat...</td>\n",
       "    </tr>\n",
       "    <tr>\n",
       "      <th>2</th>\n",
       "      <td>From depth image to semantic scene synthesis t...</td>\n",
       "    </tr>\n",
       "    <tr>\n",
       "      <th>3</th>\n",
       "      <td>Quantum Information Processing in Cavity-QED.</td>\n",
       "    </tr>\n",
       "    <tr>\n",
       "      <th>4</th>\n",
       "      <td>Distributed Reconstruction of Nonlinear Networ...</td>\n",
       "    </tr>\n",
       "    <tr>\n",
       "      <th>...</th>\n",
       "      <td>...</td>\n",
       "    </tr>\n",
       "    <tr>\n",
       "      <th>959</th>\n",
       "      <td>Haraka - Efficient Short-Input Hashing for Pos...</td>\n",
       "    </tr>\n",
       "    <tr>\n",
       "      <th>960</th>\n",
       "      <td>Sensor-based extraction of physical property m...</td>\n",
       "    </tr>\n",
       "    <tr>\n",
       "      <th>961</th>\n",
       "      <td>Learning a Weighted Classifier for Conditional...</td>\n",
       "    </tr>\n",
       "    <tr>\n",
       "      <th>962</th>\n",
       "      <td>Mitiq: A software package for error mitigation...</td>\n",
       "    </tr>\n",
       "    <tr>\n",
       "      <th>963</th>\n",
       "      <td>Comments on 'A note on perfect arithmetic code...</td>\n",
       "    </tr>\n",
       "  </tbody>\n",
       "</table>\n",
       "<p>964 rows × 1 columns</p>\n",
       "</div>"
      ],
      "text/plain": [
       "                                               article\n",
       "0            Predictive Non-equilibrium Social Science\n",
       "1    Machine Friendly Machine Learning: Interpretat...\n",
       "2    From depth image to semantic scene synthesis t...\n",
       "3        Quantum Information Processing in Cavity-QED.\n",
       "4    Distributed Reconstruction of Nonlinear Networ...\n",
       "..                                                 ...\n",
       "959  Haraka - Efficient Short-Input Hashing for Pos...\n",
       "960  Sensor-based extraction of physical property m...\n",
       "961  Learning a Weighted Classifier for Conditional...\n",
       "962  Mitiq: A software package for error mitigation...\n",
       "963  Comments on 'A note on perfect arithmetic code...\n",
       "\n",
       "[964 rows x 1 columns]"
      ]
     },
     "execution_count": 35,
     "metadata": {},
     "output_type": "execute_result"
    }
   ],
   "source": [
    "\n",
    "database_community_articles = get_database_community_articles()\n",
    "database_community_articles"
   ]
  },
  {
   "cell_type": "markdown",
   "metadata": {},
   "source": [
    "Create a node for the database community and relate the keywords to that node"
   ]
  },
  {
   "cell_type": "code",
   "execution_count": 36,
   "metadata": {},
   "outputs": [],
   "source": [
    "# Create node of database community\n",
    "def create_community(tx, community):\n",
    "    tx.run(\"MERGE (n:Community {name: $community})\", community=community)\n",
    "\n",
    "with driver.session() as session:\n",
    "    session.write_transaction(create_community, \"database community\")"
   ]
  },
  {
   "cell_type": "code",
   "execution_count": 37,
   "metadata": {},
   "outputs": [],
   "source": [
    "# Create edges from keywords to the database community\n",
    "def create_feature_of(tx, keywords, community):\n",
    "    for i in range(len(keywords)):\n",
    "        tx.run(\"MATCH (n: Keyword {word: $kname}), (m: Community {name: $cname}) MERGE (n) - [:feature_of] -> (m) \", kname=keywords[i], cname=community)\n",
    "\n",
    "keywords = [\"data management\", \"indexing\", \"data modeling\", \"big data\", \"data processing\", \"data storage\", \"data querying\"]\n",
    "community = \"database community\"\n",
    "\n",
    "with driver.session() as session:\n",
    "    session.write_transaction(create_feature_of, keywords, community)"
   ]
  },
  {
   "cell_type": "markdown",
   "metadata": {},
   "source": [
    "*Query 2*"
   ]
  },
  {
   "cell_type": "markdown",
   "metadata": {},
   "source": [
    "Here we retrieve the conferences/journals from the DB community"
   ]
  },
  {
   "cell_type": "code",
   "execution_count": 38,
   "metadata": {},
   "outputs": [],
   "source": [
    "def find_journal_conf_by_keywords(tx):\n",
    "    answer = tx.run(\"\"\"\\\n",
    "\n",
    "    MATCH (conference_journal)<-[:belongs_to]-()<-[:published_in]-(a:Article)-[:talks_about]->(:Keyword)-[:feature_of]->(database_community:Community {name: \"database community\"})\n",
    "    WITH DISTINCT conference_journal, a\n",
    "    WITH conference_journal, count(a) AS community_articles\n",
    "    MATCH (conference_journal)<-[:belongs_to]-()<-[:published_in]-(a:Article)\n",
    "    WITH conference_journal, community_articles, count(a) AS total_articles\n",
    "    WHERE community_articles/total_articles >=0.9\n",
    "    RETURN conference_journal.name as conference_journal\n",
    "        \n",
    "    \"\"\")\n",
    "    conferences_journals = []\n",
    "    for conference_journal in answer:\n",
    "        conferences_journals.append(conference_journal)\n",
    "    return conferences_journals\n",
    "\n",
    "\n",
    "def get_database_community_conferences_journals():\n",
    "    with driver.session() as session:\n",
    "        conferences_journals = session.read_transaction(find_journal_conf_by_keywords)\n",
    "        conferences_jorunals_list = []\n",
    "\n",
    "    for i in range(len(conferences_journals)):\n",
    "        conference_journal_title = conferences_journals[i].get(\"conference_journal\")\n",
    "        conferences_jorunals_list.append(conference_journal_title)\n",
    "\n",
    "    return conferences_jorunals_list\n",
    "\n",
    "\n",
    "# Create edges from the obtained conferences/journals to the database community node\n",
    "def create_is_part_of(tx, conferences_journals, community):\n",
    "    # Create edges from conferences\n",
    "    for i in range(len(conferences_journals)):\n",
    "        tx.run(\"\"\"\\\n",
    "            \n",
    "            MATCH (conference:Conference {name: $name}), (community: Community {name: $community}) \n",
    "            CREATE (conference) - [:is_part_of] -> (community) \n",
    "            \n",
    "            \"\"\", \n",
    "            community=community,\n",
    "            name=conferences_journals[i]\n",
    "            )\n",
    "\n",
    "    # Create edges from journals\n",
    "    for i in range(len(conferences_journals)):\n",
    "        tx.run(\"\"\"\\\n",
    "            \n",
    "            MATCH (journal:Journal {name: $name}), (community: Community {name: $community}) \n",
    "            CREATE (journal) - [:is_part_of] -> (community) \n",
    "            \n",
    "            \"\"\", \n",
    "            community=community,\n",
    "            name=conferences_journals[i]\n",
    "            )"
   ]
  },
  {
   "cell_type": "code",
   "execution_count": 39,
   "metadata": {},
   "outputs": [
    {
     "data": {
      "text/html": [
       "<div>\n",
       "<style scoped>\n",
       "    .dataframe tbody tr th:only-of-type {\n",
       "        vertical-align: middle;\n",
       "    }\n",
       "\n",
       "    .dataframe tbody tr th {\n",
       "        vertical-align: top;\n",
       "    }\n",
       "\n",
       "    .dataframe thead th {\n",
       "        text-align: right;\n",
       "    }\n",
       "</style>\n",
       "<table border=\"1\" class=\"dataframe\">\n",
       "  <thead>\n",
       "    <tr style=\"text-align: right;\">\n",
       "      <th></th>\n",
       "      <th>Conferences/Journals DB Community</th>\n",
       "    </tr>\n",
       "  </thead>\n",
       "  <tbody>\n",
       "    <tr>\n",
       "      <th>0</th>\n",
       "      <td>Int. J. Spatial Data Infrastructures Res.</td>\n",
       "    </tr>\n",
       "    <tr>\n",
       "      <th>1</th>\n",
       "      <td>Int. J. Digit. Libr.</td>\n",
       "    </tr>\n",
       "    <tr>\n",
       "      <th>2</th>\n",
       "      <td>Des. Autom. Embed. Syst.</td>\n",
       "    </tr>\n",
       "    <tr>\n",
       "      <th>3</th>\n",
       "      <td>Trans. Data Priv.</td>\n",
       "    </tr>\n",
       "    <tr>\n",
       "      <th>4</th>\n",
       "      <td>J. Inf. Syst.</td>\n",
       "    </tr>\n",
       "    <tr>\n",
       "      <th>...</th>\n",
       "      <td>...</td>\n",
       "    </tr>\n",
       "    <tr>\n",
       "      <th>58</th>\n",
       "      <td>Proc. Natl. Acad. Sci. USA</td>\n",
       "    </tr>\n",
       "    <tr>\n",
       "      <th>59</th>\n",
       "      <td>AGIT Journal Angew. Geoinformatik</td>\n",
       "    </tr>\n",
       "    <tr>\n",
       "      <th>60</th>\n",
       "      <td>Int. J. Intell. Robotics Appl.</td>\n",
       "    </tr>\n",
       "    <tr>\n",
       "      <th>61</th>\n",
       "      <td>J. Log. Comput.</td>\n",
       "    </tr>\n",
       "    <tr>\n",
       "      <th>62</th>\n",
       "      <td>Int. J. Data Min. Bioinform.</td>\n",
       "    </tr>\n",
       "  </tbody>\n",
       "</table>\n",
       "<p>63 rows × 1 columns</p>\n",
       "</div>"
      ],
      "text/plain": [
       "            Conferences/Journals DB Community\n",
       "0   Int. J. Spatial Data Infrastructures Res.\n",
       "1                        Int. J. Digit. Libr.\n",
       "2                    Des. Autom. Embed. Syst.\n",
       "3                           Trans. Data Priv.\n",
       "4                               J. Inf. Syst.\n",
       "..                                        ...\n",
       "58                 Proc. Natl. Acad. Sci. USA\n",
       "59          AGIT Journal Angew. Geoinformatik\n",
       "60             Int. J. Intell. Robotics Appl.\n",
       "61                            J. Log. Comput.\n",
       "62               Int. J. Data Min. Bioinform.\n",
       "\n",
       "[63 rows x 1 columns]"
      ]
     },
     "execution_count": 39,
     "metadata": {},
     "output_type": "execute_result"
    }
   ],
   "source": [
    "# Get the conferences or journals belonging to the database community\n",
    "conferences_journals = get_database_community_conferences_journals()\n",
    "conference_journals_df = pd.DataFrame(data=conferences_journals, columns=[\"Conferences/Journals DB Community\"])\n",
    "# Add the corresponding edges to the graph between conferences/journals and the database community node\n",
    "community = \"database community\"\n",
    "with driver.session() as session:\n",
    "    session.write_transaction(create_is_part_of, conferences_journals, community)\n",
    "#Show results\n",
    "conference_journals_df"
   ]
  },
  {
   "cell_type": "markdown",
   "metadata": {},
   "source": [
    "*Query 3*"
   ]
  },
  {
   "cell_type": "code",
   "execution_count": 40,
   "metadata": {},
   "outputs": [],
   "source": [
    "def create_graph_pagerank(tx, community):\n",
    "    answer = tx.run(\"\"\"\\\n",
    "\n",
    "    CALL gds.graph.create.cypher(\n",
    "    'DBCommunityGraph',\n",
    "    'MATCH (art:Article)-[:talks_about]->(:Keyword)-[:feature_of]->(com:Community{name:\"database community\"}) MATCH (art)-[:published_in]->()-[:belongs_to]->()-[:is_part_of]->(com) RETURN DISTINCT id(art) AS id, labels(art) AS labels',\n",
    "    'MATCH (art1:Article)-[:talks_about]->(:Keyword)-[:feature_of]->(com:Community{name:\"database community\"}) MATCH (art1)-[:published_in]->()-[:belongs_to]->()-[:is_part_of]->(com) MATCH (art2:Article)-[:talks_about]->(:Keyword)-[:feature_of]->(com:Community{name:\"database community\"}) MATCH (art2)-[:published_in]->()-[:belongs_to]->()-[:is_part_of]->(com) WHERE art1.article_id<art2.article_id MATCH (art1)-[:cited_by]-(art2) RETURN id(art1) AS source, id(art2) AS target'\n",
    "    )\n",
    "    \"\"\", \n",
    "    community=community\n",
    "    )\n",
    "    return answer"
   ]
  },
  {
   "cell_type": "code",
   "execution_count": 41,
   "metadata": {},
   "outputs": [
    {
     "ename": "ClientError",
     "evalue": "{code: Neo.ClientError.Procedure.ProcedureCallFailed} {message: Failed to invoke procedure `gds.graph.create.cypher`: Caused by: java.lang.IllegalArgumentException: A graph with name 'DBCommunityGraph' already exists.}",
     "output_type": "error",
     "traceback": [
      "\u001b[0;31m---------------------------------------------------------------------------\u001b[0m",
      "\u001b[0;31mClientError\u001b[0m                               Traceback (most recent call last)",
      "\u001b[0;32m/var/folders/s_/9g6p7mn936j1qzv2gp75jsz00000gn/T/ipykernel_15073/3421316794.py\u001b[0m in \u001b[0;36m<module>\u001b[0;34m\u001b[0m\n\u001b[1;32m      1\u001b[0m \u001b[0mcommunity\u001b[0m \u001b[0;34m=\u001b[0m \u001b[0;34m\"database community\"\u001b[0m\u001b[0;34m\u001b[0m\u001b[0;34m\u001b[0m\u001b[0m\n\u001b[1;32m      2\u001b[0m \u001b[0;32mwith\u001b[0m \u001b[0mdriver\u001b[0m\u001b[0;34m.\u001b[0m\u001b[0msession\u001b[0m\u001b[0;34m(\u001b[0m\u001b[0;34m)\u001b[0m \u001b[0;32mas\u001b[0m \u001b[0msession\u001b[0m\u001b[0;34m:\u001b[0m\u001b[0;34m\u001b[0m\u001b[0;34m\u001b[0m\u001b[0m\n\u001b[0;32m----> 3\u001b[0;31m     \u001b[0manswer\u001b[0m \u001b[0;34m=\u001b[0m \u001b[0msession\u001b[0m\u001b[0;34m.\u001b[0m\u001b[0mwrite_transaction\u001b[0m\u001b[0;34m(\u001b[0m\u001b[0mcreate_graph_pagerank\u001b[0m\u001b[0;34m,\u001b[0m \u001b[0mcommunity\u001b[0m\u001b[0;34m)\u001b[0m\u001b[0;34m\u001b[0m\u001b[0;34m\u001b[0m\u001b[0m\n\u001b[0m\u001b[1;32m      4\u001b[0m \u001b[0manswer\u001b[0m\u001b[0;34m\u001b[0m\u001b[0;34m\u001b[0m\u001b[0m\n",
      "\u001b[0;32m~/opt/anaconda3/envs/sdm_lab1/lib/python3.9/site-packages/neo4j/work/simple.py\u001b[0m in \u001b[0;36mwrite_transaction\u001b[0;34m(self, transaction_function, *args, **kwargs)\u001b[0m\n\u001b[1;32m    419\u001b[0m         \u001b[0;34m:\u001b[0m\u001b[0;32mreturn\u001b[0m\u001b[0;34m:\u001b[0m \u001b[0ma\u001b[0m \u001b[0mresult\u001b[0m \u001b[0;32mas\u001b[0m \u001b[0mreturned\u001b[0m \u001b[0mby\u001b[0m \u001b[0mthe\u001b[0m \u001b[0mgiven\u001b[0m \u001b[0munit\u001b[0m \u001b[0mof\u001b[0m \u001b[0mwork\u001b[0m\u001b[0;34m\u001b[0m\u001b[0;34m\u001b[0m\u001b[0m\n\u001b[1;32m    420\u001b[0m         \"\"\"\n\u001b[0;32m--> 421\u001b[0;31m         \u001b[0;32mreturn\u001b[0m \u001b[0mself\u001b[0m\u001b[0;34m.\u001b[0m\u001b[0m_run_transaction\u001b[0m\u001b[0;34m(\u001b[0m\u001b[0mWRITE_ACCESS\u001b[0m\u001b[0;34m,\u001b[0m \u001b[0mtransaction_function\u001b[0m\u001b[0;34m,\u001b[0m \u001b[0;34m*\u001b[0m\u001b[0margs\u001b[0m\u001b[0;34m,\u001b[0m \u001b[0;34m**\u001b[0m\u001b[0mkwargs\u001b[0m\u001b[0;34m)\u001b[0m\u001b[0;34m\u001b[0m\u001b[0;34m\u001b[0m\u001b[0m\n\u001b[0m\u001b[1;32m    422\u001b[0m \u001b[0;34m\u001b[0m\u001b[0m\n\u001b[1;32m    423\u001b[0m \u001b[0;34m\u001b[0m\u001b[0m\n",
      "\u001b[0;32m~/opt/anaconda3/envs/sdm_lab1/lib/python3.9/site-packages/neo4j/work/simple.py\u001b[0m in \u001b[0;36m_run_transaction\u001b[0;34m(self, access_mode, transaction_function, *args, **kwargs)\u001b[0m\n\u001b[1;32m    328\u001b[0m                     \u001b[0;32mraise\u001b[0m\u001b[0;34m\u001b[0m\u001b[0;34m\u001b[0m\u001b[0m\n\u001b[1;32m    329\u001b[0m                 \u001b[0;32melse\u001b[0m\u001b[0;34m:\u001b[0m\u001b[0;34m\u001b[0m\u001b[0;34m\u001b[0m\u001b[0m\n\u001b[0;32m--> 330\u001b[0;31m                     \u001b[0mtx\u001b[0m\u001b[0;34m.\u001b[0m\u001b[0mcommit\u001b[0m\u001b[0;34m(\u001b[0m\u001b[0;34m)\u001b[0m\u001b[0;34m\u001b[0m\u001b[0;34m\u001b[0m\u001b[0m\n\u001b[0m\u001b[1;32m    331\u001b[0m             \u001b[0;32mexcept\u001b[0m \u001b[0mIncompleteCommit\u001b[0m\u001b[0;34m:\u001b[0m\u001b[0;34m\u001b[0m\u001b[0;34m\u001b[0m\u001b[0m\n\u001b[1;32m    332\u001b[0m                 \u001b[0;32mraise\u001b[0m\u001b[0;34m\u001b[0m\u001b[0;34m\u001b[0m\u001b[0m\n",
      "\u001b[0;32m~/opt/anaconda3/envs/sdm_lab1/lib/python3.9/site-packages/neo4j/work/transaction.py\u001b[0m in \u001b[0;36mcommit\u001b[0;34m(self)\u001b[0m\n\u001b[1;32m    152\u001b[0m         \u001b[0mmetadata\u001b[0m \u001b[0;34m=\u001b[0m \u001b[0;34m{\u001b[0m\u001b[0;34m}\u001b[0m\u001b[0;34m\u001b[0m\u001b[0;34m\u001b[0m\u001b[0m\n\u001b[1;32m    153\u001b[0m         \u001b[0;32mtry\u001b[0m\u001b[0;34m:\u001b[0m\u001b[0;34m\u001b[0m\u001b[0;34m\u001b[0m\u001b[0m\n\u001b[0;32m--> 154\u001b[0;31m             \u001b[0mself\u001b[0m\u001b[0;34m.\u001b[0m\u001b[0m_consume_results\u001b[0m\u001b[0;34m(\u001b[0m\u001b[0;34m)\u001b[0m  \u001b[0;31m# DISCARD pending records then do a commit.\u001b[0m\u001b[0;34m\u001b[0m\u001b[0;34m\u001b[0m\u001b[0m\n\u001b[0m\u001b[1;32m    155\u001b[0m             \u001b[0mself\u001b[0m\u001b[0;34m.\u001b[0m\u001b[0m_connection\u001b[0m\u001b[0;34m.\u001b[0m\u001b[0mcommit\u001b[0m\u001b[0;34m(\u001b[0m\u001b[0mon_success\u001b[0m\u001b[0;34m=\u001b[0m\u001b[0mmetadata\u001b[0m\u001b[0;34m.\u001b[0m\u001b[0mupdate\u001b[0m\u001b[0;34m)\u001b[0m\u001b[0;34m\u001b[0m\u001b[0;34m\u001b[0m\u001b[0m\n\u001b[1;32m    156\u001b[0m             \u001b[0mself\u001b[0m\u001b[0;34m.\u001b[0m\u001b[0m_connection\u001b[0m\u001b[0;34m.\u001b[0m\u001b[0msend_all\u001b[0m\u001b[0;34m(\u001b[0m\u001b[0;34m)\u001b[0m\u001b[0;34m\u001b[0m\u001b[0;34m\u001b[0m\u001b[0m\n",
      "\u001b[0;32m~/opt/anaconda3/envs/sdm_lab1/lib/python3.9/site-packages/neo4j/work/transaction.py\u001b[0m in \u001b[0;36m_consume_results\u001b[0;34m(self)\u001b[0m\n\u001b[1;32m     80\u001b[0m     \u001b[0;32mdef\u001b[0m \u001b[0m_consume_results\u001b[0m\u001b[0;34m(\u001b[0m\u001b[0mself\u001b[0m\u001b[0;34m)\u001b[0m\u001b[0;34m:\u001b[0m\u001b[0;34m\u001b[0m\u001b[0;34m\u001b[0m\u001b[0m\n\u001b[1;32m     81\u001b[0m         \u001b[0;32mfor\u001b[0m \u001b[0mresult\u001b[0m \u001b[0;32min\u001b[0m \u001b[0mself\u001b[0m\u001b[0;34m.\u001b[0m\u001b[0m_results\u001b[0m\u001b[0;34m:\u001b[0m\u001b[0;34m\u001b[0m\u001b[0;34m\u001b[0m\u001b[0m\n\u001b[0;32m---> 82\u001b[0;31m             \u001b[0mresult\u001b[0m\u001b[0;34m.\u001b[0m\u001b[0mconsume\u001b[0m\u001b[0;34m(\u001b[0m\u001b[0;34m)\u001b[0m\u001b[0;34m\u001b[0m\u001b[0;34m\u001b[0m\u001b[0m\n\u001b[0m\u001b[1;32m     83\u001b[0m         \u001b[0mself\u001b[0m\u001b[0;34m.\u001b[0m\u001b[0m_results\u001b[0m \u001b[0;34m=\u001b[0m \u001b[0;34m[\u001b[0m\u001b[0;34m]\u001b[0m\u001b[0;34m\u001b[0m\u001b[0;34m\u001b[0m\u001b[0m\n\u001b[1;32m     84\u001b[0m \u001b[0;34m\u001b[0m\u001b[0m\n",
      "\u001b[0;32m~/opt/anaconda3/envs/sdm_lab1/lib/python3.9/site-packages/neo4j/work/result.py\u001b[0m in \u001b[0;36mconsume\u001b[0;34m(self)\u001b[0m\n\u001b[1;32m    289\u001b[0m         \u001b[0;32mif\u001b[0m \u001b[0mself\u001b[0m\u001b[0;34m.\u001b[0m\u001b[0m_closed\u001b[0m \u001b[0;32mis\u001b[0m \u001b[0;32mFalse\u001b[0m\u001b[0;34m:\u001b[0m\u001b[0;34m\u001b[0m\u001b[0;34m\u001b[0m\u001b[0m\n\u001b[1;32m    290\u001b[0m             \u001b[0mself\u001b[0m\u001b[0;34m.\u001b[0m\u001b[0m_discarding\u001b[0m \u001b[0;34m=\u001b[0m \u001b[0;32mTrue\u001b[0m\u001b[0;34m\u001b[0m\u001b[0;34m\u001b[0m\u001b[0m\n\u001b[0;32m--> 291\u001b[0;31m             \u001b[0;32mfor\u001b[0m \u001b[0m_\u001b[0m \u001b[0;32min\u001b[0m \u001b[0mself\u001b[0m\u001b[0;34m:\u001b[0m\u001b[0;34m\u001b[0m\u001b[0;34m\u001b[0m\u001b[0m\n\u001b[0m\u001b[1;32m    292\u001b[0m                 \u001b[0;32mpass\u001b[0m\u001b[0;34m\u001b[0m\u001b[0;34m\u001b[0m\u001b[0m\n\u001b[1;32m    293\u001b[0m \u001b[0;34m\u001b[0m\u001b[0m\n",
      "\u001b[0;32m~/opt/anaconda3/envs/sdm_lab1/lib/python3.9/site-packages/neo4j/work/result.py\u001b[0m in \u001b[0;36m__iter__\u001b[0;34m(self)\u001b[0m\n\u001b[1;32m    185\u001b[0m                 \u001b[0;32myield\u001b[0m \u001b[0mself\u001b[0m\u001b[0;34m.\u001b[0m\u001b[0m_record_buffer\u001b[0m\u001b[0;34m.\u001b[0m\u001b[0mpopleft\u001b[0m\u001b[0;34m(\u001b[0m\u001b[0;34m)\u001b[0m\u001b[0;34m\u001b[0m\u001b[0;34m\u001b[0m\u001b[0m\n\u001b[1;32m    186\u001b[0m             \u001b[0;32melif\u001b[0m \u001b[0mself\u001b[0m\u001b[0;34m.\u001b[0m\u001b[0m_streaming\u001b[0m\u001b[0;34m:\u001b[0m\u001b[0;34m\u001b[0m\u001b[0;34m\u001b[0m\u001b[0m\n\u001b[0;32m--> 187\u001b[0;31m                 \u001b[0mself\u001b[0m\u001b[0;34m.\u001b[0m\u001b[0m_connection\u001b[0m\u001b[0;34m.\u001b[0m\u001b[0mfetch_message\u001b[0m\u001b[0;34m(\u001b[0m\u001b[0;34m)\u001b[0m\u001b[0;34m\u001b[0m\u001b[0;34m\u001b[0m\u001b[0m\n\u001b[0m\u001b[1;32m    188\u001b[0m             \u001b[0;32melif\u001b[0m \u001b[0mself\u001b[0m\u001b[0;34m.\u001b[0m\u001b[0m_discarding\u001b[0m\u001b[0;34m:\u001b[0m\u001b[0;34m\u001b[0m\u001b[0;34m\u001b[0m\u001b[0m\n\u001b[1;32m    189\u001b[0m                 \u001b[0mself\u001b[0m\u001b[0;34m.\u001b[0m\u001b[0m_discard\u001b[0m\u001b[0;34m(\u001b[0m\u001b[0;34m)\u001b[0m\u001b[0;34m\u001b[0m\u001b[0;34m\u001b[0m\u001b[0m\n",
      "\u001b[0;32m~/opt/anaconda3/envs/sdm_lab1/lib/python3.9/site-packages/neo4j/io/_common.py\u001b[0m in \u001b[0;36minner\u001b[0;34m(*args, **kwargs)\u001b[0m\n\u001b[1;32m    168\u001b[0m             \u001b[0;32mdef\u001b[0m \u001b[0minner\u001b[0m\u001b[0;34m(\u001b[0m\u001b[0;34m*\u001b[0m\u001b[0margs\u001b[0m\u001b[0;34m,\u001b[0m \u001b[0;34m**\u001b[0m\u001b[0mkwargs\u001b[0m\u001b[0;34m)\u001b[0m\u001b[0;34m:\u001b[0m\u001b[0;34m\u001b[0m\u001b[0;34m\u001b[0m\u001b[0m\n\u001b[1;32m    169\u001b[0m                 \u001b[0;32mtry\u001b[0m\u001b[0;34m:\u001b[0m\u001b[0;34m\u001b[0m\u001b[0;34m\u001b[0m\u001b[0m\n\u001b[0;32m--> 170\u001b[0;31m                     \u001b[0mfunc\u001b[0m\u001b[0;34m(\u001b[0m\u001b[0;34m*\u001b[0m\u001b[0margs\u001b[0m\u001b[0;34m,\u001b[0m \u001b[0;34m**\u001b[0m\u001b[0mkwargs\u001b[0m\u001b[0;34m)\u001b[0m\u001b[0;34m\u001b[0m\u001b[0;34m\u001b[0m\u001b[0m\n\u001b[0m\u001b[1;32m    171\u001b[0m                 \u001b[0;32mexcept\u001b[0m \u001b[0;34m(\u001b[0m\u001b[0mNeo4jError\u001b[0m\u001b[0;34m,\u001b[0m \u001b[0mServiceUnavailable\u001b[0m\u001b[0;34m,\u001b[0m \u001b[0mSessionExpired\u001b[0m\u001b[0;34m)\u001b[0m \u001b[0;32mas\u001b[0m \u001b[0mexc\u001b[0m\u001b[0;34m:\u001b[0m\u001b[0;34m\u001b[0m\u001b[0;34m\u001b[0m\u001b[0m\n\u001b[1;32m    172\u001b[0m                     \u001b[0mself\u001b[0m\u001b[0;34m.\u001b[0m\u001b[0m__on_error\u001b[0m\u001b[0;34m(\u001b[0m\u001b[0mexc\u001b[0m\u001b[0;34m)\u001b[0m\u001b[0;34m\u001b[0m\u001b[0;34m\u001b[0m\u001b[0m\n",
      "\u001b[0;32m~/opt/anaconda3/envs/sdm_lab1/lib/python3.9/site-packages/neo4j/io/_bolt4.py\u001b[0m in \u001b[0;36mfetch_message\u001b[0;34m(self)\u001b[0m\n\u001b[1;32m    307\u001b[0m             \u001b[0mself\u001b[0m\u001b[0;34m.\u001b[0m\u001b[0m_server_state_manager\u001b[0m\u001b[0;34m.\u001b[0m\u001b[0mstate\u001b[0m \u001b[0;34m=\u001b[0m \u001b[0mServerStates\u001b[0m\u001b[0;34m.\u001b[0m\u001b[0mFAILED\u001b[0m\u001b[0;34m\u001b[0m\u001b[0;34m\u001b[0m\u001b[0m\n\u001b[1;32m    308\u001b[0m             \u001b[0;32mtry\u001b[0m\u001b[0;34m:\u001b[0m\u001b[0;34m\u001b[0m\u001b[0;34m\u001b[0m\u001b[0m\n\u001b[0;32m--> 309\u001b[0;31m                 \u001b[0mresponse\u001b[0m\u001b[0;34m.\u001b[0m\u001b[0mon_failure\u001b[0m\u001b[0;34m(\u001b[0m\u001b[0msummary_metadata\u001b[0m \u001b[0;32mor\u001b[0m \u001b[0;34m{\u001b[0m\u001b[0;34m}\u001b[0m\u001b[0;34m)\u001b[0m\u001b[0;34m\u001b[0m\u001b[0;34m\u001b[0m\u001b[0m\n\u001b[0m\u001b[1;32m    310\u001b[0m             \u001b[0;32mexcept\u001b[0m \u001b[0;34m(\u001b[0m\u001b[0mServiceUnavailable\u001b[0m\u001b[0;34m,\u001b[0m \u001b[0mDatabaseUnavailable\u001b[0m\u001b[0;34m)\u001b[0m\u001b[0;34m:\u001b[0m\u001b[0;34m\u001b[0m\u001b[0;34m\u001b[0m\u001b[0m\n\u001b[1;32m    311\u001b[0m                 \u001b[0;32mif\u001b[0m \u001b[0mself\u001b[0m\u001b[0;34m.\u001b[0m\u001b[0mpool\u001b[0m\u001b[0;34m:\u001b[0m\u001b[0;34m\u001b[0m\u001b[0;34m\u001b[0m\u001b[0m\n",
      "\u001b[0;32m~/opt/anaconda3/envs/sdm_lab1/lib/python3.9/site-packages/neo4j/io/_common.py\u001b[0m in \u001b[0;36mon_failure\u001b[0;34m(self, metadata)\u001b[0m\n\u001b[1;32m    226\u001b[0m         \u001b[0;32mif\u001b[0m \u001b[0mcallable\u001b[0m\u001b[0;34m(\u001b[0m\u001b[0mhandler\u001b[0m\u001b[0;34m)\u001b[0m\u001b[0;34m:\u001b[0m\u001b[0;34m\u001b[0m\u001b[0;34m\u001b[0m\u001b[0m\n\u001b[1;32m    227\u001b[0m             \u001b[0mhandler\u001b[0m\u001b[0;34m(\u001b[0m\u001b[0;34m)\u001b[0m\u001b[0;34m\u001b[0m\u001b[0;34m\u001b[0m\u001b[0m\n\u001b[0;32m--> 228\u001b[0;31m         \u001b[0;32mraise\u001b[0m \u001b[0mNeo4jError\u001b[0m\u001b[0;34m.\u001b[0m\u001b[0mhydrate\u001b[0m\u001b[0;34m(\u001b[0m\u001b[0;34m**\u001b[0m\u001b[0mmetadata\u001b[0m\u001b[0;34m)\u001b[0m\u001b[0;34m\u001b[0m\u001b[0;34m\u001b[0m\u001b[0m\n\u001b[0m\u001b[1;32m    229\u001b[0m \u001b[0;34m\u001b[0m\u001b[0m\n\u001b[1;32m    230\u001b[0m     \u001b[0;32mdef\u001b[0m \u001b[0mon_ignored\u001b[0m\u001b[0;34m(\u001b[0m\u001b[0mself\u001b[0m\u001b[0;34m,\u001b[0m \u001b[0mmetadata\u001b[0m\u001b[0;34m=\u001b[0m\u001b[0;32mNone\u001b[0m\u001b[0;34m)\u001b[0m\u001b[0;34m:\u001b[0m\u001b[0;34m\u001b[0m\u001b[0;34m\u001b[0m\u001b[0m\n",
      "\u001b[0;31mClientError\u001b[0m: {code: Neo.ClientError.Procedure.ProcedureCallFailed} {message: Failed to invoke procedure `gds.graph.create.cypher`: Caused by: java.lang.IllegalArgumentException: A graph with name 'DBCommunityGraph' already exists.}"
     ]
    }
   ],
   "source": [
    "community = \"database community\"\n",
    "with driver.session() as session:\n",
    "    answer = session.write_transaction(create_graph_pagerank, community)\n",
    "answer"
   ]
  },
  {
   "cell_type": "markdown",
   "metadata": {},
   "source": [
    "Apply the page rank algorithm over the graph created"
   ]
  },
  {
   "cell_type": "code",
   "execution_count": null,
   "metadata": {},
   "outputs": [],
   "source": [
    "def find_top_articles_from_community(tx):\n",
    "    answer = tx.run(\"\"\"\\\n",
    "\n",
    "    // applying page rank\n",
    "    CALL gds.pageRank.stream('DBCommunityGraph')\n",
    "    YIELD nodeId, score\n",
    "    WITH gds.util.asNode(nodeId).title AS name, score\n",
    "    ORDER BY score DESC\n",
    "    WITH COLLECT({name:name, score:score}) as articles, COLLECT(score)[49] AS LastPlaceCitation\n",
    "    WITH articles, LastPlaceCitation, reduce(draws=0, i in range(49,size(articles)-1) | CASE WHEN articles[i].score = LastPlaceCitation THEN draws+1 ELSE draws END) AS LastPlace\n",
    "    WITH LastPlace, articles[0..(49+LastPlace)] AS articles\n",
    "    UNWIND articles as Article_Scores\n",
    "    RETURN Article_Scores.name AS name, Article_Scores.score AS score\n",
    "\n",
    "    \"\"\")\n",
    "    articles = []\n",
    "    for article in answer:\n",
    "        articles.append(article)\n",
    "    return articles"
   ]
  },
  {
   "cell_type": "code",
   "execution_count": null,
   "metadata": {},
   "outputs": [],
   "source": [
    "with driver.session() as session:\n",
    "    articles = session.read_transaction(find_top_articles_from_community)"
   ]
  },
  {
   "cell_type": "code",
   "execution_count": null,
   "metadata": {},
   "outputs": [
    {
     "data": {
      "text/html": [
       "<div>\n",
       "<style scoped>\n",
       "    .dataframe tbody tr th:only-of-type {\n",
       "        vertical-align: middle;\n",
       "    }\n",
       "\n",
       "    .dataframe tbody tr th {\n",
       "        vertical-align: top;\n",
       "    }\n",
       "\n",
       "    .dataframe thead th {\n",
       "        text-align: right;\n",
       "    }\n",
       "</style>\n",
       "<table border=\"1\" class=\"dataframe\">\n",
       "  <thead>\n",
       "    <tr style=\"text-align: right;\">\n",
       "      <th></th>\n",
       "      <th>article</th>\n",
       "      <th>score</th>\n",
       "    </tr>\n",
       "  </thead>\n",
       "  <tbody>\n",
       "    <tr>\n",
       "      <th>0</th>\n",
       "      <td>Grpah DB new era 6</td>\n",
       "      <td>0.667662</td>\n",
       "    </tr>\n",
       "    <tr>\n",
       "      <th>0</th>\n",
       "      <td>Grpah DB new era 5</td>\n",
       "      <td>0.544848</td>\n",
       "    </tr>\n",
       "    <tr>\n",
       "      <th>0</th>\n",
       "      <td>Notes on Apple 4 Fonts.</td>\n",
       "      <td>0.470875</td>\n",
       "    </tr>\n",
       "    <tr>\n",
       "      <th>0</th>\n",
       "      <td>Grpah DB new era 4</td>\n",
       "      <td>0.414527</td>\n",
       "    </tr>\n",
       "    <tr>\n",
       "      <th>0</th>\n",
       "      <td>Automation in construction.</td>\n",
       "      <td>0.385875</td>\n",
       "    </tr>\n",
       "    <tr>\n",
       "      <th>...</th>\n",
       "      <td>...</td>\n",
       "      <td>...</td>\n",
       "    </tr>\n",
       "    <tr>\n",
       "      <th>0</th>\n",
       "      <td>A Complete Axiomatization for Blocks World.</td>\n",
       "      <td>0.15</td>\n",
       "    </tr>\n",
       "    <tr>\n",
       "      <th>0</th>\n",
       "      <td>Foreword.</td>\n",
       "      <td>0.15</td>\n",
       "    </tr>\n",
       "    <tr>\n",
       "      <th>0</th>\n",
       "      <td>MayaArch3D - webbasierte archäologische 3D-Vis...</td>\n",
       "      <td>0.15</td>\n",
       "    </tr>\n",
       "    <tr>\n",
       "      <th>0</th>\n",
       "      <td>Coverage optimization of visual sensor network...</td>\n",
       "      <td>0.15</td>\n",
       "    </tr>\n",
       "    <tr>\n",
       "      <th>0</th>\n",
       "      <td>Hierarchical classification of G-Protein-Coupl...</td>\n",
       "      <td>0.15</td>\n",
       "    </tr>\n",
       "  </tbody>\n",
       "</table>\n",
       "<p>75 rows × 2 columns</p>\n",
       "</div>"
      ],
      "text/plain": [
       "                                              article     score\n",
       "0                                  Grpah DB new era 6  0.667662\n",
       "0                                  Grpah DB new era 5  0.544848\n",
       "0                             Notes on Apple 4 Fonts.  0.470875\n",
       "0                                  Grpah DB new era 4  0.414527\n",
       "0                         Automation in construction.  0.385875\n",
       "..                                                ...       ...\n",
       "0         A Complete Axiomatization for Blocks World.      0.15\n",
       "0                                           Foreword.      0.15\n",
       "0   MayaArch3D - webbasierte archäologische 3D-Vis...      0.15\n",
       "0   Coverage optimization of visual sensor network...      0.15\n",
       "0   Hierarchical classification of G-Protein-Coupl...      0.15\n",
       "\n",
       "[75 rows x 2 columns]"
      ]
     },
     "execution_count": 18,
     "metadata": {},
     "output_type": "execute_result"
    }
   ],
   "source": [
    "# Create table with answer\n",
    "cols=[\"article\",\"score\"]\n",
    "articles_df = pd.DataFrame(columns=cols)\n",
    "for i in range(len(articles)):\n",
    "    data = [\n",
    "        articles[i].get(\"name\"),\n",
    "        articles[i].get(\"score\")\n",
    "        ]\n",
    "    new_df = pd.DataFrame([data], columns=cols)\n",
    "    articles_df = pd.concat([articles_df, new_df])\n",
    "articles_df"
   ]
  },
  {
   "cell_type": "markdown",
   "metadata": {},
   "source": [
    "Write the score as a property in the above article nodes"
   ]
  },
  {
   "cell_type": "code",
   "execution_count": null,
   "metadata": {},
   "outputs": [],
   "source": [
    "def write_rank(tx):\n",
    "    answer = tx.run(\"\"\"\\\n",
    "\n",
    "    CALL gds.pageRank.write('DBCommunityGraph',{writeProperty:\"pageRankInDBComm\"})\n",
    "\n",
    "    \"\"\")\n",
    "    return answer"
   ]
  },
  {
   "cell_type": "code",
   "execution_count": null,
   "metadata": {},
   "outputs": [
    {
     "data": {
      "text/plain": [
       "<neo4j.work.result.Result at 0x7fe7a8ed9c70>"
      ]
     },
     "execution_count": 20,
     "metadata": {},
     "output_type": "execute_result"
    }
   ],
   "source": [
    "with driver.session() as session:\n",
    "    answer = session.write_transaction(write_rank)\n",
    "answer"
   ]
  },
  {
   "cell_type": "markdown",
   "metadata": {},
   "source": [
    "*Query 4*"
   ]
  },
  {
   "cell_type": "markdown",
   "metadata": {},
   "source": [
    "With the previously obtained top articles, find the corresponding authors (who will be the potential reviewers for the community)"
   ]
  },
  {
   "cell_type": "code",
   "execution_count": null,
   "metadata": {},
   "outputs": [],
   "source": [
    "top_articles = articles_df['article'].tolist()"
   ]
  },
  {
   "cell_type": "code",
   "execution_count": null,
   "metadata": {},
   "outputs": [],
   "source": [
    "def find_authors(tx, top_articles):\n",
    "    answer = tx.run(\"\"\"\n",
    "\n",
    "    MATCH (author:Author)<-[:written_by]-(article:Article)\n",
    "    WHERE article.title IN $top_articles\n",
    "    RETURN DISTINCT author.author_id as author_id, author.name as author_name\n",
    "\n",
    "    \"\"\", \n",
    "    top_articles=top_articles\n",
    "    )\n",
    "    \n",
    "    authors = []\n",
    "    for author in answer:\n",
    "        authors.append(author)\n",
    "    return authors"
   ]
  },
  {
   "cell_type": "code",
   "execution_count": null,
   "metadata": {},
   "outputs": [],
   "source": [
    "with driver.session() as session:\n",
    "    authors = session.read_transaction(find_authors, top_articles)"
   ]
  },
  {
   "cell_type": "code",
   "execution_count": null,
   "metadata": {},
   "outputs": [
    {
     "data": {
      "text/html": [
       "<div>\n",
       "<style scoped>\n",
       "    .dataframe tbody tr th:only-of-type {\n",
       "        vertical-align: middle;\n",
       "    }\n",
       "\n",
       "    .dataframe tbody tr th {\n",
       "        vertical-align: top;\n",
       "    }\n",
       "\n",
       "    .dataframe thead th {\n",
       "        text-align: right;\n",
       "    }\n",
       "</style>\n",
       "<table border=\"1\" class=\"dataframe\">\n",
       "  <thead>\n",
       "    <tr style=\"text-align: right;\">\n",
       "      <th></th>\n",
       "      <th>author id</th>\n",
       "      <th>author name</th>\n",
       "    </tr>\n",
       "  </thead>\n",
       "  <tbody>\n",
       "    <tr>\n",
       "      <th>0</th>\n",
       "      <td>10086759</td>\n",
       "      <td>Thomas Wrede</td>\n",
       "    </tr>\n",
       "    <tr>\n",
       "      <th>0</th>\n",
       "      <td>10097024</td>\n",
       "      <td>Simon Geletta</td>\n",
       "    </tr>\n",
       "    <tr>\n",
       "      <th>0</th>\n",
       "      <td>10097023</td>\n",
       "      <td>Lendie Follett</td>\n",
       "    </tr>\n",
       "    <tr>\n",
       "      <th>0</th>\n",
       "      <td>10097025</td>\n",
       "      <td>Marcia Laugerman</td>\n",
       "    </tr>\n",
       "    <tr>\n",
       "      <th>0</th>\n",
       "      <td>9085809</td>\n",
       "      <td>Weiwei Xing</td>\n",
       "    </tr>\n",
       "    <tr>\n",
       "      <th>...</th>\n",
       "      <td>...</td>\n",
       "      <td>...</td>\n",
       "    </tr>\n",
       "    <tr>\n",
       "      <th>0</th>\n",
       "      <td>9063196</td>\n",
       "      <td>Xuan Yang</td>\n",
       "    </tr>\n",
       "    <tr>\n",
       "      <th>0</th>\n",
       "      <td>9644301</td>\n",
       "      <td>Guoliang Chen 0005</td>\n",
       "    </tr>\n",
       "    <tr>\n",
       "      <th>0</th>\n",
       "      <td>9343960</td>\n",
       "      <td>Terry Caelli</td>\n",
       "    </tr>\n",
       "    <tr>\n",
       "      <th>0</th>\n",
       "      <td>8974693</td>\n",
       "      <td>Horst Bunke</td>\n",
       "    </tr>\n",
       "    <tr>\n",
       "      <th>0</th>\n",
       "      <td>9100538</td>\n",
       "      <td>Serena Villata</td>\n",
       "    </tr>\n",
       "  </tbody>\n",
       "</table>\n",
       "<p>215 rows × 2 columns</p>\n",
       "</div>"
      ],
      "text/plain": [
       "   author id         author name\n",
       "0   10086759        Thomas Wrede\n",
       "0   10097024       Simon Geletta\n",
       "0   10097023      Lendie Follett\n",
       "0   10097025    Marcia Laugerman\n",
       "0    9085809         Weiwei Xing\n",
       "..       ...                 ...\n",
       "0    9063196           Xuan Yang\n",
       "0    9644301  Guoliang Chen 0005\n",
       "0    9343960        Terry Caelli\n",
       "0    8974693         Horst Bunke\n",
       "0    9100538      Serena Villata\n",
       "\n",
       "[215 rows x 2 columns]"
      ]
     },
     "execution_count": 24,
     "metadata": {},
     "output_type": "execute_result"
    }
   ],
   "source": [
    "# Create table with answer\n",
    "cols=[\"author id\", \"author name\"]\n",
    "authors_df = pd.DataFrame(columns=cols)\n",
    "for i in range(len(authors)):\n",
    "    data = [\n",
    "        authors[i].get(\"author_id\"),\n",
    "        authors[i].get(\"author_name\")\n",
    "        ]\n",
    "    new_df = pd.DataFrame([data], columns=cols)\n",
    "    authors_df = pd.concat([authors_df, new_df])\n",
    "authors_df"
   ]
  },
  {
   "cell_type": "markdown",
   "metadata": {},
   "source": [
    "Now, from this list get the author gurus"
   ]
  },
  {
   "cell_type": "code",
   "execution_count": 44,
   "metadata": {},
   "outputs": [],
   "source": [
    "def find_author_gurus(tx, top_articles):\n",
    "    answer = tx.run(\"\"\"\n",
    "\n",
    "    MATCH (author:Author)<-[:written_by]-(article:Article)\n",
    "    WHERE article.title IN $top_articles\n",
    "    WITH author, count(article) AS articles_amount ORDER BY articles_amount DESC\n",
    "    WHERE articles_amount >= 2\n",
    "    RETURN author.name AS author, articles_amount\n",
    "    \n",
    "    \"\"\", \n",
    "    top_articles=top_articles\n",
    "    )\n",
    "    \n",
    "    authors = []\n",
    "    for author in answer:\n",
    "        authors.append(author)\n",
    "    return authors"
   ]
  },
  {
   "cell_type": "code",
   "execution_count": 45,
   "metadata": {},
   "outputs": [],
   "source": [
    "with driver.session() as session:\n",
    "    authors = session.read_transaction(find_author_gurus, top_articles)"
   ]
  },
  {
   "cell_type": "code",
   "execution_count": 46,
   "metadata": {},
   "outputs": [
    {
     "data": {
      "text/html": [
       "<div>\n",
       "<style scoped>\n",
       "    .dataframe tbody tr th:only-of-type {\n",
       "        vertical-align: middle;\n",
       "    }\n",
       "\n",
       "    .dataframe tbody tr th {\n",
       "        vertical-align: top;\n",
       "    }\n",
       "\n",
       "    .dataframe thead th {\n",
       "        text-align: right;\n",
       "    }\n",
       "</style>\n",
       "<table border=\"1\" class=\"dataframe\">\n",
       "  <thead>\n",
       "    <tr style=\"text-align: right;\">\n",
       "      <th></th>\n",
       "      <th>author guru</th>\n",
       "      <th>articles</th>\n",
       "    </tr>\n",
       "  </thead>\n",
       "  <tbody>\n",
       "    <tr>\n",
       "      <th>0</th>\n",
       "      <td>Chu-Sing Yang</td>\n",
       "      <td>4</td>\n",
       "    </tr>\n",
       "    <tr>\n",
       "      <th>0</th>\n",
       "      <td>Tien-Wen Sung 0001</td>\n",
       "      <td>4</td>\n",
       "    </tr>\n",
       "    <tr>\n",
       "      <th>0</th>\n",
       "      <td>Dana E. Hart</td>\n",
       "      <td>2</td>\n",
       "    </tr>\n",
       "  </tbody>\n",
       "</table>\n",
       "</div>"
      ],
      "text/plain": [
       "          author guru articles\n",
       "0       Chu-Sing Yang        4\n",
       "0  Tien-Wen Sung 0001        4\n",
       "0        Dana E. Hart        2"
      ]
     },
     "execution_count": 46,
     "metadata": {},
     "output_type": "execute_result"
    }
   ],
   "source": [
    "# Create table with answer\n",
    "cols=[\"author guru\", \"articles\"]\n",
    "authors_df = pd.DataFrame(columns=cols)\n",
    "for i in range(len(authors)):\n",
    "    data = [\n",
    "        authors[i].get(\"author\"),\n",
    "        authors[i].get(\"articles_amount\")\n",
    "        ]\n",
    "    new_df = pd.DataFrame([data], columns=cols)\n",
    "    authors_df = pd.concat([authors_df, new_df])\n",
    "authors_df"
   ]
  },
  {
   "cell_type": "markdown",
   "metadata": {},
   "source": [
    "Assert this information into the graph by setting a property on the authors that are gurus"
   ]
  },
  {
   "cell_type": "code",
   "execution_count": 47,
   "metadata": {},
   "outputs": [],
   "source": [
    "names = authors_df['author guru'].tolist()\n",
    "\n",
    "# put a property guruOfDB\n",
    "def set_property_guruOfDB(tx, names):\n",
    "    answer = tx.run(\"\"\"\\\n",
    "\n",
    "    MATCH (a:Author)\n",
    "    WHERE a.name IN $names\n",
    "    SET a.GuruOfDB=1\n",
    "    \n",
    "    \"\"\", \n",
    "    names=names\n",
    "    )\n",
    "\n",
    "with driver.session() as session:\n",
    "    articles = session.write_transaction(set_property_guruOfDB, names)"
   ]
  }
 ],
 "metadata": {
  "interpreter": {
   "hash": "6160c0131bdfc172777593547a58889439b56d8ed273ce91923063ba441a71ef"
  },
  "kernelspec": {
   "display_name": "Python 3.9.7 ('smd_lab1')",
   "language": "python",
   "name": "python3"
  },
  "language_info": {
   "codemirror_mode": {
    "name": "ipython",
    "version": 3
   },
   "file_extension": ".py",
   "mimetype": "text/x-python",
   "name": "python",
   "nbconvert_exporter": "python",
   "pygments_lexer": "ipython3",
   "version": "3.9.7"
  },
  "orig_nbformat": 4
 },
 "nbformat": 4,
 "nbformat_minor": 2
}
