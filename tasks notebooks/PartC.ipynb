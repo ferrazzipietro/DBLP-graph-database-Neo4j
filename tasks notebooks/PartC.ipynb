{
 "cells": [
  {
   "cell_type": "code",
   "execution_count": 1,
   "metadata": {},
   "outputs": [],
   "source": [
    "from neo4j import GraphDatabase\n",
    "import pandas as pd"
   ]
  },
  {
   "cell_type": "markdown",
   "metadata": {},
   "source": [
    "### **Database connection**\n",
    "\n",
    "Here, the connection settings to link this script with Neo4j are setup"
   ]
  },
  {
   "cell_type": "code",
   "execution_count": 9,
   "metadata": {},
   "outputs": [],
   "source": [
    "# Connection settings\n",
    "uri = \"neo4j://localhost:7687\""
   ]
  },
  {
   "cell_type": "code",
   "execution_count": 3,
   "metadata": {},
   "outputs": [],
   "source": [
    "class Neo4jConnection:\n",
    "    \n",
    "    def __init__(self, uri, user, pwd):\n",
    "        \n",
    "        self.__uri = uri\n",
    "        self.__user = user\n",
    "        self.__pwd = pwd\n",
    "        self.__driver = None\n",
    "        \n",
    "        try:\n",
    "            self.__driver = GraphDatabase.driver(self.__uri, auth=(self.__user, self.__pwd))\n",
    "        except Exception as e:\n",
    "            print(\"Failed to create the driver:\", e)\n",
    "        \n",
    "    def close(self):\n",
    "        \n",
    "        if self.__driver is not None:\n",
    "            self.__driver.close()\n",
    "        \n",
    "    def query(self, query, parameters=None, db=None):\n",
    "        \n",
    "        assert self.__driver is not None, \"Driver not initialized!\"\n",
    "        session = None\n",
    "        response = None\n",
    "        \n",
    "        try: \n",
    "            session = self.__driver.session(database=db) if db is not None else self.__driver.session() \n",
    "            response = list(session.run(query, parameters))\n",
    "        except Exception as e:\n",
    "            print(\"Query failed:\", e)\n",
    "        finally: \n",
    "            if session is not None:\n",
    "                session.close()\n",
    "        return response"
   ]
  },
  {
   "cell_type": "code",
   "execution_count": 10,
   "metadata": {},
   "outputs": [],
   "source": [
    "pass = \"pass\"\n",
    "conn=Neo4jConnection(uri=uri, user=\"neo4j\", pass)"
   ]
  },
  {
   "cell_type": "markdown",
   "metadata": {},
   "source": [
    "### **TASK C algorithms**"
   ]
  },
  {
   "cell_type": "markdown",
   "metadata": {},
   "source": [
    "**Louvain algorithm**: Communiy detection. Detect the communities of authors defined by the conferences. I.e find if there are authors that are related by the fact that they often go to the same conferences.\n"
   ]
  },
  {
   "cell_type": "code",
   "execution_count": 13,
   "metadata": {},
   "outputs": [
    {
     "data": {
      "text/plain": [
       "[<Record nodeQuery='MATCH (n) WHERE n:Author \\n    RETURN id(n) AS id, labels(n) AS labels' relationshipQuery='MATCH (auth1:Author)<-[:written_by]-(:Article)-[:published_in]-> \\n    (:Proceeding) -[:belongs_to]->(conf:Conference)<-[:belongs_to]-(:Proceeding)<-[:published_in]-(:Article)-[:written_by]->(auth2:Author)\\n    WHERE id(auth1) < id(auth2)\\n    WITH auth1, auth2\\n    RETURN id(auth1) AS source, id(auth2) AS target' graphName='sameConferenceAuthorsGraph' nodeCount=18201 relationshipCount=45542 createMillis=287>]"
      ]
     },
     "execution_count": 13,
     "metadata": {},
     "output_type": "execute_result"
    }
   ],
   "source": [
    "createAuthorToAuthorGraph= \"\"\"\n",
    "    CALL gds.graph.create.cypher(\n",
    "    'sameConferenceAuthorsGraph',\n",
    "    'MATCH (n) WHERE n:Author \n",
    "    RETURN id(n) AS id, labels(n) AS labels',\n",
    "    'MATCH (auth1:Author)<-[:written_by]-(:Article)-[:published_in]-> \n",
    "    (:Proceeding) -[:belongs_to]->(conf:Conference)<-[:belongs_to]-(:Proceeding)<-[:published_in]-(:Article)-[:written_by]->(auth2:Author)\n",
    "    WHERE id(auth1) < id(auth2)\n",
    "    WITH auth1, auth2\n",
    "    RETURN id(auth1) AS source, id(auth2) AS target')\n",
    "\"\"\"\n",
    "\n",
    "conn.query(createAuthorToAuthorGraph)"
   ]
  },
  {
   "cell_type": "markdown",
   "metadata": {},
   "source": [
    "The algorithm is then launched:"
   ]
  },
  {
   "cell_type": "code",
   "execution_count": 18,
   "metadata": {},
   "outputs": [
    {
     "data": {
      "text/plain": [
       "[<Record count(communityId )=16052>]"
      ]
     },
     "execution_count": 18,
     "metadata": {},
     "output_type": "execute_result"
    }
   ],
   "source": [
    "louvain='''CALL gds.louvain.stream('sameConferenceAuthorsGraph')\n",
    "YIELD nodeId, communityId\n",
    "WITH DISTINCT communityId\n",
    "RETURN count(communityId )'''\n",
    "conn.query(louvain)"
   ]
  },
  {
   "cell_type": "markdown",
   "metadata": {},
   "source": [
    "Trying different parameters"
   ]
  },
  {
   "cell_type": "code",
   "execution_count": 17,
   "metadata": {},
   "outputs": [
    {
     "data": {
      "text/plain": [
       "[<Record count(communityId )=16154>]"
      ]
     },
     "execution_count": 17,
     "metadata": {},
     "output_type": "execute_result"
    }
   ],
   "source": [
    "louvain='''CALL gds.louvain.stream('sameConferenceAuthorsGraph', {maxIterations:20, maxLevels:15, tolerance:001})\n",
    "YIELD nodeId, communityId\n",
    "WITH DISTINCT communityId\n",
    "RETURN count(communityId )'''\n",
    "conn.query(louvain)"
   ]
  },
  {
   "cell_type": "code",
   "execution_count": 19,
   "metadata": {},
   "outputs": [
    {
     "data": {
      "text/plain": [
       "[<Record count(communityId )=16077>]"
      ]
     },
     "execution_count": 19,
     "metadata": {},
     "output_type": "execute_result"
    }
   ],
   "source": [
    "louvain='''CALL gds.louvain.stream('sameConferenceAuthorsGraph', {maxIterations:10, maxLevels:15, tolerance:0.01})\n",
    "YIELD nodeId, communityId\n",
    "WITH DISTINCT communityId\n",
    "RETURN count(communityId )'''\n",
    "conn.query(louvain)"
   ]
  },
  {
   "cell_type": "markdown",
   "metadata": {},
   "source": [
    "The number is always almost the same."
   ]
  },
  {
   "cell_type": "markdown",
   "metadata": {},
   "source": [
    "**Similarity algorithm**: articles similarity based on the topics they talk about. We want to find all the articles similar to the one \"Parallel Machine Scheduling with Time Dependent Processing Times\".\n"
   ]
  },
  {
   "cell_type": "markdown",
   "metadata": {},
   "source": [
    "first, all the articles has to be check for similarity"
   ]
  },
  {
   "cell_type": "code",
   "execution_count": 20,
   "metadata": {},
   "outputs": [
    {
     "data": {
      "text/plain": [
       "[<Record nodeQuery='MATCH (n) \\n    WHERE n:Article OR n:Keyword \\n    RETURN id(n) AS id, labels(n) AS labels' relationshipQuery='MATCH (art:Article)-[:talks_about]->(k:Keyword)\\n    RETURN id(art) AS source, id(k) AS target' graphName='articleTopicsGraph' nodeCount=6439 relationshipCount=30623 createMillis=117>]"
      ]
     },
     "execution_count": 20,
     "metadata": {},
     "output_type": "execute_result"
    }
   ],
   "source": [
    "createAuthorKeywordsGraph=\"\"\"\n",
    "    CALL gds.graph.create.cypher(\n",
    "    'articleTopicsGraph',\n",
    "    'MATCH (n) \n",
    "    WHERE n:Article OR n:Keyword \n",
    "    RETURN id(n) AS id, labels(n) AS labels',\n",
    "    'MATCH (art:Article)-[:talks_about]->(k:Keyword)\n",
    "    RETURN id(art) AS source, id(k) AS target')\n",
    "\"\"\"\n",
    "\n",
    "conn.query(createAuthorKeywordsGraph)"
   ]
  },
  {
   "cell_type": "markdown",
   "metadata": {},
   "source": [
    "The algorithm is then launched:"
   ]
  },
  {
   "cell_type": "code",
   "execution_count": 21,
   "metadata": {},
   "outputs": [
    {
     "data": {
      "text/plain": [
       "[<Record Article2='Neurobiological Models of Two-Choice Decision Making Can Be Reduced to a One-Dimensional Nonlinear Diffusion Equation.' similarity=0.3333333333333333>,\n",
       " <Record Article2='A State Secret - Dissertations in the German Democratic Republic.' similarity=0.2857142857142857>,\n",
       " <Record Article2='Editorial.' similarity=0.25>,\n",
       " <Record Article2='Guest Editorial: Special Section from the 11th International Conference on Quality Software (QSIC 2011).' similarity=0.2>,\n",
       " <Record Article2='Consistent Operations on a Spatial Data Structure.' similarity=0.2>,\n",
       " <Record Article2='The effects of mismatch in Gm-C polyphase filters.' similarity=0.2>,\n",
       " <Record Article2='MPlot - a server to analyze and visualize tertiary structure contacts and geometrical features of helical membrane proteins.' similarity=0.2>,\n",
       " <Record Article2='Structural and Dynamical Properties of Concentrated Aqueous NaOH Solutions: A Computer Simulation Study.' similarity=0.2>,\n",
       " <Record Article2='Variance-Based Risk Estimations in Markov Processes via Transformation with State Lumping.' similarity=0.2>,\n",
       " <Record Article2='TransNet: Shift Invariant Transformer Network for Power Attack.' similarity=0.2>]"
      ]
     },
     "execution_count": 21,
     "metadata": {},
     "output_type": "execute_result"
    }
   ],
   "source": [
    "similarity = \"\"\"\n",
    "CALL gds.nodeSimilarity.stream('articleTopicsGraph')\n",
    "YIELD node1, node2, similarity\n",
    "WHERE gds.util.asNode(node1).title=\"Evolutionary analysis of collaboration networks in the field of information systems.\"\n",
    "RETURN gds.util.asNode(node2).title AS Article2, similarity\n",
    "ORDER BY  similarity DESC\"\"\"\n",
    "\n",
    "conn.query(similarity)"
   ]
  }
 ],
 "metadata": {
  "interpreter": {
   "hash": "6160c0131bdfc172777593547a58889439b56d8ed273ce91923063ba441a71ef"
  },
  "kernelspec": {
   "display_name": "Python 3.9.7 ('smd_lab1')",
   "language": "python",
   "name": "python3"
  },
  "language_info": {
   "codemirror_mode": {
    "name": "ipython",
    "version": 3
   },
   "file_extension": ".py",
   "mimetype": "text/x-python",
   "name": "python",
   "nbconvert_exporter": "python",
   "pygments_lexer": "ipython3",
   "version": "3.9.7"
  },
  "orig_nbformat": 4
 },
 "nbformat": 4,
 "nbformat_minor": 2
}
