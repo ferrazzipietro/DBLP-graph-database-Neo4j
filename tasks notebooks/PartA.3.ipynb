{
 "cells": [
  {
   "cell_type": "code",
   "execution_count": 1,
   "metadata": {},
   "outputs": [],
   "source": [
    "from neo4j import GraphDatabase\n",
    "import pandas as pd"
   ]
  },
  {
   "cell_type": "markdown",
   "metadata": {},
   "source": [
    "### **Database connection**\n",
    "\n",
    "Here, the connection settings to link this script with Neo4j are setup"
   ]
  },
  {
   "cell_type": "code",
   "execution_count": 5,
   "metadata": {},
   "outputs": [],
   "source": [
    "# Connection settings\n",
    "uri = \"neo4j://localhost:7687\"\n",
    "pass = \"pass\"\n",
    "driver = GraphDatabase.driver(uri, auth=(\"neo4j\", pass))"
   ]
  },
  {
   "cell_type": "markdown",
   "metadata": {},
   "source": [
    "### **Data import**\n",
    "\n",
    "Import the new needed data to upload"
   ]
  },
  {
   "cell_type": "code",
   "execution_count": 6,
   "metadata": {},
   "outputs": [],
   "source": [
    "# Data import\n",
    "# Nodes\n",
    "organizations = pd.read_csv('./data/organizations.csv')\n",
    "\n",
    "# Relations\n",
    "author_reviewerGroup = pd.read_csv('./data/auth_is_reviewerVersion2.csv')\n",
    "# contains the respective review and a veredict flag\n",
    "author_organization = pd.read_csv('./data/author_organization.csv')\n",
    "\n"
   ]
  },
  {
   "cell_type": "markdown",
   "metadata": {},
   "source": [
    "### **Data Loading**\n",
    "\n",
    "In this stage we load the data "
   ]
  },
  {
   "cell_type": "markdown",
   "metadata": {},
   "source": [
    "#### **Nodes**"
   ]
  },
  {
   "cell_type": "markdown",
   "metadata": {},
   "source": [
    "*Organizations:*"
   ]
  },
  {
   "cell_type": "code",
   "execution_count": 7,
   "metadata": {},
   "outputs": [],
   "source": [
    "# Implementation\n",
    "def create_organizations(tx, organizations):\n",
    "    for i in range(len(organizations)):\n",
    "        tx.run(\"MERGE (:Organization {organization_id: $organization_id, type: $type, name: $name})\", organization_id=int(organizations.loc[i, \"organization:ID\"]), type=organizations.loc[i, \"type:string\"], name=organizations.loc[i, \"name:string[]\"])\n",
    "\n",
    "# Invocation\n",
    "with driver.session() as session:\n",
    "    session.write_transaction(create_organizations, organizations)"
   ]
  },
  {
   "cell_type": "markdown",
   "metadata": {},
   "source": [
    "#### **Edges**"
   ]
  },
  {
   "cell_type": "markdown",
   "metadata": {},
   "source": [
    "*Author-Organization*"
   ]
  },
  {
   "cell_type": "code",
   "execution_count": 8,
   "metadata": {},
   "outputs": [],
   "source": [
    "# Implementation\n",
    "def create_affiliated_to(tx, author_organization):\n",
    "    for i in range(len(author_organization)):\n",
    "        tx.run(\"MATCH (n: Author {author_id: $start}), (m: Organization {organization_id: $end}) MERGE (n) - [:affiliated_to] -> (m) \", start=int(author_organization.loc[i, \":START_ID\"]), end=int(author_organization .loc[i, \":END_ID\"]))\n",
    "\n",
    "# Invocation\n",
    "with driver.session() as session:\n",
    "    session.write_transaction(create_affiliated_to, author_organization)"
   ]
  },
  {
   "cell_type": "markdown",
   "metadata": {},
   "source": [
    "*Author-ReviewerGroup*\n",
    "\n",
    "This edge already existed, but with the new requirements, it has to carry some additional information in it's properties: the review text and the review veredict of the author for the corresponding article. As such, this edge will be updated with the corresponding new properties."
   ]
  },
  {
   "cell_type": "code",
   "execution_count": 9,
   "metadata": {},
   "outputs": [],
   "source": [
    "# Implementation\n",
    "def update_reviewer_in(tx, author_reviewerGroup):\n",
    "    for i in range(len(author_reviewerGroup)):\n",
    "        tx.run(\"MATCH (n: Author {author_id: $start}), (m: ReviewGroup {assignedReviewer_id: $end}) MERGE (n) - [:reviewer_in {review_details: $review, decision: $decision }] -> (m) \", \n",
    "        start=int(author_reviewerGroup.loc[i, \":START_ID\"]), \n",
    "        end=int(author_reviewerGroup .loc[i, \":END_ID\"]),\n",
    "        decision=int(author_reviewerGroup.loc[i, \"decision:bool\"]), \n",
    "        review=author_reviewerGroup .loc[i, \"text:strin[]\"])\n",
    "\n",
    "# Invocation\n",
    "with driver.session() as session:\n",
    "    session.write_transaction(update_reviewer_in, author_reviewerGroup)"
   ]
  }
 ],
 "metadata": {
  "interpreter": {
   "hash": "6160c0131bdfc172777593547a58889439b56d8ed273ce91923063ba441a71ef"
  },
  "kernelspec": {
   "display_name": "Python 3.9.7 ('smd_lab1')",
   "language": "python",
   "name": "python3"
  },
  "language_info": {
   "codemirror_mode": {
    "name": "ipython",
    "version": 3
   },
   "file_extension": ".py",
   "mimetype": "text/x-python",
   "name": "python",
   "nbconvert_exporter": "python",
   "pygments_lexer": "ipython3",
   "version": "3.9.7"
  },
  "orig_nbformat": 4
 },
 "nbformat": 4,
 "nbformat_minor": 2
}
